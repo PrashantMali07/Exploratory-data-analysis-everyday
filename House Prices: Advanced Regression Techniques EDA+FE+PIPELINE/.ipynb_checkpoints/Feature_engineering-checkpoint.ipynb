{
 "cells": [
  {
   "cell_type": "code",
   "execution_count": 18,
   "id": "f9327253-43a6-4a5d-b5c7-4c8455f58131",
   "metadata": {},
   "outputs": [],
   "source": [
    "import pandas as pd\n",
    "import numpy as np\n",
    "import matplotlib.pyplot as plt\n",
    "import seaborn as sns\n",
    "from scipy.stats import norm, skew, probplot\n",
    "from scipy.special import boxcox1p\n",
    "\n",
    "from sklearn.preprocessing import LabelEncoder\n",
    "\n",
    "import warnings\n",
    "warnings.filterwarnings('ignore')\n",
    "\n",
    "pd.pandas.set_option('display.max_columns', None)\n",
    "\n",
    "import optuna\n",
    "from functools import partial"
   ]
  },
  {
   "cell_type": "code",
   "execution_count": 2,
   "id": "f567977c-952a-4181-b4a4-86ef0abd1948",
   "metadata": {},
   "outputs": [
    {
     "name": "stdout",
     "output_type": "stream",
     "text": [
      "<class 'pandas.core.frame.DataFrame'>\n",
      "Index: 2919 entries, 0 to 1458\n",
      "Data columns (total 81 columns):\n",
      " #   Column         Non-Null Count  Dtype  \n",
      "---  ------         --------------  -----  \n",
      " 0   Id             2919 non-null   int64  \n",
      " 1   MSSubClass     2919 non-null   int64  \n",
      " 2   MSZoning       2915 non-null   object \n",
      " 3   LotFrontage    2433 non-null   float64\n",
      " 4   LotArea        2919 non-null   int64  \n",
      " 5   Street         2919 non-null   object \n",
      " 6   Alley          198 non-null    object \n",
      " 7   LotShape       2919 non-null   object \n",
      " 8   LandContour    2919 non-null   object \n",
      " 9   Utilities      2917 non-null   object \n",
      " 10  LotConfig      2919 non-null   object \n",
      " 11  LandSlope      2919 non-null   object \n",
      " 12  Neighborhood   2919 non-null   object \n",
      " 13  Condition1     2919 non-null   object \n",
      " 14  Condition2     2919 non-null   object \n",
      " 15  BldgType       2919 non-null   object \n",
      " 16  HouseStyle     2919 non-null   object \n",
      " 17  OverallQual    2919 non-null   int64  \n",
      " 18  OverallCond    2919 non-null   int64  \n",
      " 19  YearBuilt      2919 non-null   int64  \n",
      " 20  YearRemodAdd   2919 non-null   int64  \n",
      " 21  RoofStyle      2919 non-null   object \n",
      " 22  RoofMatl       2919 non-null   object \n",
      " 23  Exterior1st    2918 non-null   object \n",
      " 24  Exterior2nd    2918 non-null   object \n",
      " 25  MasVnrType     1153 non-null   object \n",
      " 26  MasVnrArea     2896 non-null   float64\n",
      " 27  ExterQual      2919 non-null   object \n",
      " 28  ExterCond      2919 non-null   object \n",
      " 29  Foundation     2919 non-null   object \n",
      " 30  BsmtQual       2838 non-null   object \n",
      " 31  BsmtCond       2837 non-null   object \n",
      " 32  BsmtExposure   2837 non-null   object \n",
      " 33  BsmtFinType1   2840 non-null   object \n",
      " 34  BsmtFinSF1     2918 non-null   float64\n",
      " 35  BsmtFinType2   2839 non-null   object \n",
      " 36  BsmtFinSF2     2918 non-null   float64\n",
      " 37  BsmtUnfSF      2918 non-null   float64\n",
      " 38  TotalBsmtSF    2918 non-null   float64\n",
      " 39  Heating        2919 non-null   object \n",
      " 40  HeatingQC      2919 non-null   object \n",
      " 41  CentralAir     2919 non-null   object \n",
      " 42  Electrical     2918 non-null   object \n",
      " 43  1stFlrSF       2919 non-null   int64  \n",
      " 44  2ndFlrSF       2919 non-null   int64  \n",
      " 45  LowQualFinSF   2919 non-null   int64  \n",
      " 46  GrLivArea      2919 non-null   int64  \n",
      " 47  BsmtFullBath   2917 non-null   float64\n",
      " 48  BsmtHalfBath   2917 non-null   float64\n",
      " 49  FullBath       2919 non-null   int64  \n",
      " 50  HalfBath       2919 non-null   int64  \n",
      " 51  BedroomAbvGr   2919 non-null   int64  \n",
      " 52  KitchenAbvGr   2919 non-null   int64  \n",
      " 53  KitchenQual    2918 non-null   object \n",
      " 54  TotRmsAbvGrd   2919 non-null   int64  \n",
      " 55  Functional     2917 non-null   object \n",
      " 56  Fireplaces     2919 non-null   int64  \n",
      " 57  FireplaceQu    1499 non-null   object \n",
      " 58  GarageType     2762 non-null   object \n",
      " 59  GarageYrBlt    2760 non-null   float64\n",
      " 60  GarageFinish   2760 non-null   object \n",
      " 61  GarageCars     2918 non-null   float64\n",
      " 62  GarageArea     2918 non-null   float64\n",
      " 63  GarageQual     2760 non-null   object \n",
      " 64  GarageCond     2760 non-null   object \n",
      " 65  PavedDrive     2919 non-null   object \n",
      " 66  WoodDeckSF     2919 non-null   int64  \n",
      " 67  OpenPorchSF    2919 non-null   int64  \n",
      " 68  EnclosedPorch  2919 non-null   int64  \n",
      " 69  3SsnPorch      2919 non-null   int64  \n",
      " 70  ScreenPorch    2919 non-null   int64  \n",
      " 71  PoolArea       2919 non-null   int64  \n",
      " 72  PoolQC         10 non-null     object \n",
      " 73  Fence          571 non-null    object \n",
      " 74  MiscFeature    105 non-null    object \n",
      " 75  MiscVal        2919 non-null   int64  \n",
      " 76  MoSold         2919 non-null   int64  \n",
      " 77  YrSold         2919 non-null   int64  \n",
      " 78  SaleType       2918 non-null   object \n",
      " 79  SaleCondition  2919 non-null   object \n",
      " 80  SalePrice      1460 non-null   float64\n",
      "dtypes: float64(12), int64(26), object(43)\n",
      "memory usage: 1.8+ MB\n"
     ]
    }
   ],
   "source": [
    "# reading the dataset\n",
    "train=pd.read_csv('train.csv')\n",
    "test=pd.read_csv('test.csv')\n",
    "\n",
    "#concatenating the both dataset\n",
    "df=pd.concat([train,test], axis=0)\n",
    "\n",
    "# dataset info\n",
    "df.info()"
   ]
  },
  {
   "cell_type": "markdown",
   "id": "3958983a-b952-4a8c-a8da-36c4a449f8ac",
   "metadata": {},
   "source": [
    "## Feature Engineering"
   ]
  },
  {
   "cell_type": "markdown",
   "id": "dfd6f2ef-bc6d-4c05-8713-f7707e69c7cb",
   "metadata": {},
   "source": [
    "### 1.Removing 'ID' column"
   ]
  },
  {
   "cell_type": "code",
   "execution_count": 3,
   "id": "a893747e-b118-4a56-9d7c-a3f0f5d7731c",
   "metadata": {},
   "outputs": [],
   "source": [
    "df.drop(['Id'], axis=1, inplace=True)"
   ]
  },
  {
   "cell_type": "markdown",
   "id": "af83edca-4fdb-48a0-b905-7fe00eb2db9a",
   "metadata": {},
   "source": [
    "### 2. Cleaning missing values"
   ]
  },
  {
   "cell_type": "markdown",
   "id": "fcf59c08-2183-44f3-bfc3-bc851950d691",
   "metadata": {},
   "source": [
    "<h4>Outline</h4>\n",
    "Missing values are objects that must be removed. The missing values are processed based on the understanding of each independent variable.\n",
    "<br><br>\n",
    "<h4>How to deal with missing values.</h4>\n",
    "\n",
    "<ol>\n",
    "    <li><b>Delete</b><br>\n",
    "    <li><b>Replace a specific value</b><br>\n",
    "    <li><b>Replacement of central propensity:</b><br>\n",
    "    <li><b>Other than that: Simple probability replacement, multiple confrontation method, etc.</b><br>\n",
    "    </li>\n",
    "</ol>\n",
    "\n",
    "After the each variable, I treated it as follows.<br>\n",
    "<ul>\n",
    "    <li>\n",
    "        Continuous: Select one relevant category variable and replace the median for each category.<br>or\n",
    "        Alternate to 0 if it is bound to be a missing value.\n",
    "    </li>\n",
    "    <li>\n",
    "        Category type: value_counts to identify the distribution and replace it with None if there is zero negative meaning, such as NA or POOL. or<br>Select one related category variable, identify the distribution of values for each category, and replace the poorest value.\n",
    "    </li>\n",
    "</ul>"
   ]
  },
  {
   "cell_type": "code",
   "execution_count": 4,
   "id": "95590eb0-8675-4491-8a4d-9a1fa3ec416a",
   "metadata": {},
   "outputs": [
    {
     "data": {
      "text/plain": [
       "Index(['MSZoning', 'LotFrontage', 'Alley', 'Utilities', 'Exterior1st',\n",
       "       'Exterior2nd', 'MasVnrType', 'MasVnrArea', 'BsmtQual', 'BsmtCond',\n",
       "       'BsmtExposure', 'BsmtFinType1', 'BsmtFinSF1', 'BsmtFinType2',\n",
       "       'BsmtFinSF2', 'BsmtUnfSF', 'TotalBsmtSF', 'Electrical', 'BsmtFullBath',\n",
       "       'BsmtHalfBath', 'KitchenQual', 'Functional', 'FireplaceQu',\n",
       "       'GarageType', 'GarageYrBlt', 'GarageFinish', 'GarageCars', 'GarageArea',\n",
       "       'GarageQual', 'GarageCond', 'PoolQC', 'Fence', 'MiscFeature',\n",
       "       'SaleType', 'SalePrice'],\n",
       "      dtype='object')"
      ]
     },
     "execution_count": 4,
     "metadata": {},
     "output_type": "execute_result"
    }
   ],
   "source": [
    "# variables that are currently missing\n",
    "\n",
    "col_hv_nan=df.columns[df.isna().sum()>0]\n",
    "col_hv_nan"
   ]
  },
  {
   "cell_type": "code",
   "execution_count": 5,
   "id": "ffff0789-3cf5-40ae-aedb-daacd8356b93",
   "metadata": {},
   "outputs": [
    {
     "data": {
      "image/png": "[encoded data removed]",
      "text/plain": [
       "<Figure size 640x480 with 1 Axes>"
      ]
     },
     "metadata": {},
     "output_type": "display_data"
    }
   ],
   "source": [
    "# for details we must refer to the data description, refer to the >> data_description.txt << in the same folder\n",
    "\n",
    "# For Example\n",
    "\n",
    "## 1. LotFrontage is replaced by the median value per Neighborhood.\n",
    "tmp=df.groupby('Neighborhood')['LotFrontage'].agg('count')\n",
    "tmp.plot(kind='bar',color='g')\n",
    "plt.show()"
   ]
  },
  {
   "cell_type": "code",
   "execution_count": 6,
   "id": "e3d4df21-546d-4f40-9777-1f82f5388b0d",
   "metadata": {},
   "outputs": [
    {
     "data": {
      "text/plain": [
       "Alley\n",
       "Grvl    120\n",
       "Pave     78\n",
       "Name: count, dtype: int64"
      ]
     },
     "execution_count": 6,
     "metadata": {},
     "output_type": "execute_result"
    }
   ],
   "source": [
    "## 2. Ally is a ranking variable that can have NA, and since these values have been treated as missing values, replace them with None.\n",
    "df.Alley.value_counts()"
   ]
  },
  {
   "cell_type": "code",
   "execution_count": 7,
   "id": "2610238f-8e04-4fdf-b05d-3f5918e4b57d",
   "metadata": {},
   "outputs": [
    {
     "data": {
      "text/plain": [
       "Utilities\n",
       "AllPub    2916\n",
       "NoSeWa       1\n",
       "Name: count, dtype: int64"
      ]
     },
     "execution_count": 7,
     "metadata": {},
     "output_type": "execute_result"
    }
   ],
   "source": [
    "## 3. Utilities are extremely skewed to AllPub, so replace them with the lowest value.\n",
    "df.Utilities.value_counts()"
   ]
  },
  {
   "cell_type": "code",
   "execution_count": 8,
   "id": "61a4a966-d085-4f6e-b2bd-f2fcb721e8ee",
   "metadata": {},
   "outputs": [
    {
     "data": {
      "text/plain": [
       "GarageArea\n",
       "0.0       157\n",
       "576.0      97\n",
       "440.0      96\n",
       "240.0      69\n",
       "484.0      68\n",
       "         ... \n",
       "872.0       1\n",
       "923.0       1\n",
       "192.0       1\n",
       "1025.0      1\n",
       "272.0       1\n",
       "Name: count, Length: 603, dtype: int64"
      ]
     },
     "execution_count": 8,
     "metadata": {},
     "output_type": "execute_result"
    }
   ],
   "source": [
    "## 4. Garage Area is a missing value in the absence of Garage, so it is replaced by 0.\n",
    "df.GarageArea.value_counts()"
   ]
  },
  {
   "cell_type": "code",
   "execution_count": 9,
   "id": "3c7996a4-b5d9-4349-b6db-0ac7d9ae2064",
   "metadata": {},
   "outputs": [],
   "source": [
    "for col in ['GarageType', 'GarageFinish', 'GarageQual', 'GarageCond','BsmtQual',\n",
    "          'BsmtCond', 'BsmtExposure', 'BsmtFinType1', 'BsmtFinType2',\"PoolQC\",\n",
    "          'Alley','Fence','MiscFeature','FireplaceQu','MasVnrType','Utilities']:\n",
    "    df[col] = df[col].fillna('None')\n",
    "    \n",
    "for col in ['GarageYrBlt', 'GarageArea', 'GarageCars','MasVnrArea','BsmtFinSF1',\n",
    "          'BsmtFinSF2','BsmtFullBath','BsmtHalfBath','FullBath','HalfBath',\n",
    "          'BsmtUnfSF','TotalBsmtSF']:\n",
    "    df[col] = df[col].fillna(0)\n",
    "\n",
    "for col in ['Exterior1st','Exterior2nd','SaleType','Electrical','KitchenQual']:\n",
    "    df[col] = df[col].fillna(df[col].mode()[0])\n",
    "\n",
    "df['MSZoning'] = df.groupby('MSSubClass')['MSZoning'].transform(lambda x: x.fillna(x.mode()[0]))\n",
    "df['LotFrontage'] = df.groupby('Neighborhood')['LotFrontage'].transform(lambda x: x.fillna(x.median()))\n",
    "df['Functional'] = df['Functional'].fillna('Typ')"
   ]
  },
  {
   "cell_type": "markdown",
   "id": "27d60c8b-9c61-4133-b98c-054ae029f8af",
   "metadata": {},
   "source": [
    "### 3. Data Transformation - LabelEncoder, Boxcox, Log\n",
    "\n",
    "* Log and boxcox transformations are applied to secure the normality and equal variance of continuous variables.\n",
    "* Label encoding is applied to ordered (priority) variables.\n",
    "* One-hot encoding is applied to equal variables.\n",
    "* Log transformation is applied to the dependent variable to secure the normality of the dependent variable."
   ]
  },
  {
   "cell_type": "code",
   "execution_count": 10,
   "id": "744e5423-b960-4598-baff-5fa86cdd0a73",
   "metadata": {},
   "outputs": [],
   "source": [
    "train[['MSSubClass', 'GarageYrBlt', 'MoSold', 'OverallCond', 'OverallQual', 'YearBuilt', 'YearRemodAdd', 'YrSold']] =\\\n",
    "train[['MSSubClass', 'GarageYrBlt', 'MoSold', 'OverallCond', 'OverallQual', 'YearBuilt', 'YearRemodAdd', 'YrSold']].astype('str')\n",
    "\n",
    "test[['MSSubClass', 'GarageYrBlt', 'MoSold', 'OverallCond', 'OverallQual', 'YearBuilt', 'YearRemodAdd', 'YrSold']] =\\\n",
    "test[['MSSubClass', 'GarageYrBlt', 'MoSold', 'OverallCond', 'OverallQual', 'YearBuilt', 'YearRemodAdd', 'YrSold']].astype('str')\n",
    "\n",
    "order_vars = [\n",
    "    'OverallQual', 'OverallCond', 'YearBuilt', 'YearRemodAdd', 'ExterQual', 'ExterCond',\n",
    "    'BsmtQual', 'BsmtCond', 'BsmtExposure', 'BsmtFinType1', 'BsmtFinType2',\n",
    "    'HeatingQC', 'KitchenQual', 'FireplaceQu', 'GarageYrBlt', 'GarageQual',\n",
    "    'GarageCond', 'PoolQC', 'MoSold', 'YrSold'\n",
    "]"
   ]
  },
  {
   "cell_type": "code",
   "execution_count": 11,
   "id": "c742f539-b683-4302-a8de-5cb8901c2ad1",
   "metadata": {},
   "outputs": [],
   "source": [
    "y_train = train.SalePrice.values\n",
    "df.drop(['SalePrice'], axis=1, inplace=True)"
   ]
  },
  {
   "cell_type": "code",
   "execution_count": 12,
   "id": "2bfee98a-1738-4b0a-b428-aa47c68cbcc4",
   "metadata": {},
   "outputs": [
    {
     "data": {
      "text/html": [
       "<div>\n",
       "<style scoped>\n",
       "    .dataframe tbody tr th:only-of-type {\n",
       "        vertical-align: middle;\n",
       "    }\n",
       "\n",
       "    .dataframe tbody tr th {\n",
       "        vertical-align: top;\n",
       "    }\n",
       "\n",
       "    .dataframe thead th {\n",
       "        text-align: right;\n",
       "    }\n",
       "</style>\n",
       "<table border=\"1\" class=\"dataframe\">\n",
       "  <thead>\n",
       "    <tr style=\"text-align: right;\">\n",
       "      <th></th>\n",
       "      <th>Skew</th>\n",
       "    </tr>\n",
       "  </thead>\n",
       "  <tbody>\n",
       "    <tr>\n",
       "      <th>MiscVal</th>\n",
       "      <td>21.947195</td>\n",
       "    </tr>\n",
       "    <tr>\n",
       "      <th>PoolArea</th>\n",
       "      <td>16.898328</td>\n",
       "    </tr>\n",
       "    <tr>\n",
       "      <th>LotArea</th>\n",
       "      <td>12.822431</td>\n",
       "    </tr>\n",
       "    <tr>\n",
       "      <th>LowQualFinSF</th>\n",
       "      <td>12.088761</td>\n",
       "    </tr>\n",
       "    <tr>\n",
       "      <th>3SsnPorch</th>\n",
       "      <td>11.376065</td>\n",
       "    </tr>\n",
       "    <tr>\n",
       "      <th>KitchenAbvGr</th>\n",
       "      <td>4.302254</td>\n",
       "    </tr>\n",
       "    <tr>\n",
       "      <th>BsmtFinSF2</th>\n",
       "      <td>4.146143</td>\n",
       "    </tr>\n",
       "    <tr>\n",
       "      <th>EnclosedPorch</th>\n",
       "      <td>4.003891</td>\n",
       "    </tr>\n",
       "    <tr>\n",
       "      <th>ScreenPorch</th>\n",
       "      <td>3.946694</td>\n",
       "    </tr>\n",
       "    <tr>\n",
       "      <th>BsmtHalfBath</th>\n",
       "      <td>3.931594</td>\n",
       "    </tr>\n",
       "    <tr>\n",
       "      <th>MasVnrArea</th>\n",
       "      <td>2.613592</td>\n",
       "    </tr>\n",
       "    <tr>\n",
       "      <th>OpenPorchSF</th>\n",
       "      <td>2.535114</td>\n",
       "    </tr>\n",
       "    <tr>\n",
       "      <th>WoodDeckSF</th>\n",
       "      <td>1.842433</td>\n",
       "    </tr>\n",
       "    <tr>\n",
       "      <th>LotFrontage</th>\n",
       "      <td>1.505704</td>\n",
       "    </tr>\n",
       "    <tr>\n",
       "      <th>1stFlrSF</th>\n",
       "      <td>1.469604</td>\n",
       "    </tr>\n",
       "    <tr>\n",
       "      <th>BsmtFinSF1</th>\n",
       "      <td>1.425230</td>\n",
       "    </tr>\n",
       "    <tr>\n",
       "      <th>MSSubClass</th>\n",
       "      <td>1.375457</td>\n",
       "    </tr>\n",
       "    <tr>\n",
       "      <th>GrLivArea</th>\n",
       "      <td>1.269358</td>\n",
       "    </tr>\n",
       "    <tr>\n",
       "      <th>TotalBsmtSF</th>\n",
       "      <td>1.156894</td>\n",
       "    </tr>\n",
       "    <tr>\n",
       "      <th>BsmtUnfSF</th>\n",
       "      <td>0.919339</td>\n",
       "    </tr>\n",
       "    <tr>\n",
       "      <th>2ndFlrSF</th>\n",
       "      <td>0.861675</td>\n",
       "    </tr>\n",
       "    <tr>\n",
       "      <th>TotRmsAbvGrd</th>\n",
       "      <td>0.758367</td>\n",
       "    </tr>\n",
       "    <tr>\n",
       "      <th>Fireplaces</th>\n",
       "      <td>0.733495</td>\n",
       "    </tr>\n",
       "    <tr>\n",
       "      <th>HalfBath</th>\n",
       "      <td>0.694566</td>\n",
       "    </tr>\n",
       "    <tr>\n",
       "      <th>BsmtFullBath</th>\n",
       "      <td>0.624832</td>\n",
       "    </tr>\n",
       "    <tr>\n",
       "      <th>OverallCond</th>\n",
       "      <td>0.570312</td>\n",
       "    </tr>\n",
       "    <tr>\n",
       "      <th>YearBuilt</th>\n",
       "      <td>-0.599806</td>\n",
       "    </tr>\n",
       "    <tr>\n",
       "      <th>GarageYrBlt</th>\n",
       "      <td>-3.906205</td>\n",
       "    </tr>\n",
       "  </tbody>\n",
       "</table>\n",
       "</div>"
      ],
      "text/plain": [
       "                    Skew\n",
       "MiscVal        21.947195\n",
       "PoolArea       16.898328\n",
       "LotArea        12.822431\n",
       "LowQualFinSF   12.088761\n",
       "3SsnPorch      11.376065\n",
       "KitchenAbvGr    4.302254\n",
       "BsmtFinSF2      4.146143\n",
       "EnclosedPorch   4.003891\n",
       "ScreenPorch     3.946694\n",
       "BsmtHalfBath    3.931594\n",
       "MasVnrArea      2.613592\n",
       "OpenPorchSF     2.535114\n",
       "WoodDeckSF      1.842433\n",
       "LotFrontage     1.505704\n",
       "1stFlrSF        1.469604\n",
       "BsmtFinSF1      1.425230\n",
       "MSSubClass      1.375457\n",
       "GrLivArea       1.269358\n",
       "TotalBsmtSF     1.156894\n",
       "BsmtUnfSF       0.919339\n",
       "2ndFlrSF        0.861675\n",
       "TotRmsAbvGrd    0.758367\n",
       "Fireplaces      0.733495\n",
       "HalfBath        0.694566\n",
       "BsmtFullBath    0.624832\n",
       "OverallCond     0.570312\n",
       "YearBuilt      -0.599806\n",
       "GarageYrBlt    -3.906205"
      ]
     },
     "execution_count": 12,
     "metadata": {},
     "output_type": "execute_result"
    }
   ],
   "source": [
    "numeric_feats = df.dtypes[df.dtypes != \"object\"].index\n",
    "\n",
    "skewed_feats = df[numeric_feats].apply(lambda x: skew(x.dropna())).sort_values(ascending=False)\n",
    "skewness = pd.DataFrame({'Skew' :skewed_feats})\n",
    "skewness = skewness[abs(skewness.Skew) > 0.5]\n",
    "skewness"
   ]
  },
  {
   "cell_type": "code",
   "execution_count": 14,
   "id": "73347b38-efd3-4565-ad88-64587f775136",
   "metadata": {},
   "outputs": [],
   "source": [
    "skewness = skewness[abs(skewness) > 0.5]\n",
    "\n",
    "from scipy.special import boxcox1p\n",
    "from scipy.stats import boxcox_normmax\n",
    "skewed_features = skewness.index\n",
    "lam = 0.15\n",
    "\n",
    "\n",
    "for feat in skewed_features:\n",
    "    # Calculate the lambda parameter using boxcox_normmax\n",
    "    # lmda=boxcox_normmax(df[feat] + 1,)\n",
    "\n",
    "    # Apply the Box-Cox transformation using boxcox1p\n",
    "    df[feat] = boxcox1p(df[feat],lam)"
   ]
  },
  {
   "cell_type": "code",
   "execution_count": 17,
   "id": "b3e4c639-a12e-470a-a119-f4ed3fce6ea7",
   "metadata": {},
   "outputs": [
    {
     "data": {
      "text/html": [
       "<div>\n",
       "<style scoped>\n",
       "    .dataframe tbody tr th:only-of-type {\n",
       "        vertical-align: middle;\n",
       "    }\n",
       "\n",
       "    .dataframe tbody tr th {\n",
       "        vertical-align: top;\n",
       "    }\n",
       "\n",
       "    .dataframe thead th {\n",
       "        text-align: right;\n",
       "    }\n",
       "</style>\n",
       "<table border=\"1\" class=\"dataframe\">\n",
       "  <thead>\n",
       "    <tr style=\"text-align: right;\">\n",
       "      <th></th>\n",
       "      <th>Skew</th>\n",
       "    </tr>\n",
       "  </thead>\n",
       "  <tbody>\n",
       "    <tr>\n",
       "      <th>PoolArea</th>\n",
       "      <td>15.119426</td>\n",
       "    </tr>\n",
       "    <tr>\n",
       "      <th>3SsnPorch</th>\n",
       "      <td>8.924822</td>\n",
       "    </tr>\n",
       "    <tr>\n",
       "      <th>LowQualFinSF</th>\n",
       "      <td>8.744143</td>\n",
       "    </tr>\n",
       "    <tr>\n",
       "      <th>MiscVal</th>\n",
       "      <td>5.597060</td>\n",
       "    </tr>\n",
       "    <tr>\n",
       "      <th>BsmtHalfBath</th>\n",
       "      <td>3.788243</td>\n",
       "    </tr>\n",
       "    <tr>\n",
       "      <th>KitchenAbvGr</th>\n",
       "      <td>3.698825</td>\n",
       "    </tr>\n",
       "    <tr>\n",
       "      <th>ScreenPorch</th>\n",
       "      <td>2.978396</td>\n",
       "    </tr>\n",
       "    <tr>\n",
       "      <th>BsmtFinSF2</th>\n",
       "      <td>2.564481</td>\n",
       "    </tr>\n",
       "    <tr>\n",
       "      <th>EnclosedPorch</th>\n",
       "      <td>2.025461</td>\n",
       "    </tr>\n",
       "    <tr>\n",
       "      <th>MasVnrArea</th>\n",
       "      <td>0.636361</td>\n",
       "    </tr>\n",
       "    <tr>\n",
       "      <th>HalfBath</th>\n",
       "      <td>0.590565</td>\n",
       "    </tr>\n",
       "    <tr>\n",
       "      <th>YearBuilt</th>\n",
       "      <td>-0.622225</td>\n",
       "    </tr>\n",
       "    <tr>\n",
       "      <th>LotFrontage</th>\n",
       "      <td>-0.737114</td>\n",
       "    </tr>\n",
       "    <tr>\n",
       "      <th>BsmtUnfSF</th>\n",
       "      <td>-1.538207</td>\n",
       "    </tr>\n",
       "    <tr>\n",
       "      <th>GarageYrBlt</th>\n",
       "      <td>-3.925344</td>\n",
       "    </tr>\n",
       "    <tr>\n",
       "      <th>TotalBsmtSF</th>\n",
       "      <td>-3.961274</td>\n",
       "    </tr>\n",
       "  </tbody>\n",
       "</table>\n",
       "</div>"
      ],
      "text/plain": [
       "                    Skew\n",
       "PoolArea       15.119426\n",
       "3SsnPorch       8.924822\n",
       "LowQualFinSF    8.744143\n",
       "MiscVal         5.597060\n",
       "BsmtHalfBath    3.788243\n",
       "KitchenAbvGr    3.698825\n",
       "ScreenPorch     2.978396\n",
       "BsmtFinSF2      2.564481\n",
       "EnclosedPorch   2.025461\n",
       "MasVnrArea      0.636361\n",
       "HalfBath        0.590565\n",
       "YearBuilt      -0.622225\n",
       "LotFrontage    -0.737114\n",
       "BsmtUnfSF      -1.538207\n",
       "GarageYrBlt    -3.925344\n",
       "TotalBsmtSF    -3.961274"
      ]
     },
     "execution_count": 17,
     "metadata": {},
     "output_type": "execute_result"
    }
   ],
   "source": [
    "numeric_feats = df.dtypes[df.dtypes != \"object\"].index\n",
    "\n",
    "skewed_feats = df[numeric_feats].apply(lambda x: skew(x.dropna())).sort_values(ascending=False)\n",
    "skewness = pd.DataFrame({'Skew' :skewed_feats})\n",
    "skewness = skewness[abs(skewness.Skew) > 0.5]\n",
    "skewness"
   ]
  },
  {
   "cell_type": "code",
   "execution_count": 20,
   "id": "cca42386-9142-4553-b505-95fe7dd719ed",
   "metadata": {},
   "outputs": [],
   "source": [
    "# labelling the order variables\n",
    "for c in order_vars:\n",
    "    lbl = LabelEncoder() \n",
    "    lbl.fit(list(df[c].values)) \n",
    "    df[c] = lbl.transform(list(df[c].values))"
   ]
  },
  {
   "cell_type": "code",
   "execution_count": 21,
   "id": "6a5b0bc1-c1ba-4de9-970e-bbb210cfe146",
   "metadata": {},
   "outputs": [],
   "source": [
    "y_train = np.log1p(y_train)"
   ]
  },
  {
   "cell_type": "markdown",
   "id": "f130af87-a0a8-43a3-a0f9-d11fae8fbf84",
   "metadata": {},
   "source": [
    "### Derivative variable generation\n",
    "\n",
    "* Derivative variables are methods that can improve the quality of analysis. There are several ideas for how to generate derivative variables.\n",
    "\n",
    "* It is a continuous variable and means an observation of an object, and if this value is 0, it means that there is no object. Therefore, it is possible to add categorical variables as to whether or not the object is present. Categorical variables with binary values can be stored as 0 and 1.\n",
    "\n",
    "* If you can express continuous variables of the same series in association, use a four-line operation. New variables can be created. It is similar to calculating BMI with height and weight.\n",
    "\n",
    "* The above judgment can be used using min and max values after describe."
   ]
  },
  {
   "cell_type": "code",
   "execution_count": 23,
   "id": "7205da04-4e7c-4836-b088-717522a59d33",
   "metadata": {},
   "outputs": [],
   "source": [
    "df['Haspool'] = df['PoolArea'].apply(lambda x: 1 if x > 0 else 0)\n",
    "df['Hasgarage'] = df['GarageArea'].apply(lambda x: 1 if x > 0 else 0)\n",
    "df['Hasbsmt'] = df['TotalBsmtSF'].apply(lambda x: 1 if x > 0 else 0)\n",
    "df['Hasfireplace'] = df['Fireplaces'].apply(lambda x: 1 if x > 0 else 0)\n",
    "\n",
    "df['TotalSF'] = (df['TotalBsmtSF'] + df['1stFlrSF'] + df['2ndFlrSF'])\n",
    "df['Total_Bathrooms'] = (df['FullBath'] + (0.5 * df['HalfBath']) + df['BsmtFullBath'] + (0.5 * df['BsmtHalfBath']))                              \n",
    "df['Total_porch_sf'] = (df['OpenPorchSF'] + df['3SsnPorch'] + df['EnclosedPorch'] + df['ScreenPorch'] + df['WoodDeckSF'])"
   ]
  },
  {
   "cell_type": "code",
   "execution_count": 24,
   "id": "465bac96-bf7b-41d5-93e9-6d6ab0e4fb0d",
   "metadata": {},
   "outputs": [],
   "source": [
    "df = pd.get_dummies(df)"
   ]
  },
  {
   "cell_type": "code",
   "execution_count": 26,
   "id": "bc130d6e-2db6-421a-8dbd-d525b6caccb2",
   "metadata": {},
   "outputs": [
    {
     "data": {
      "text/plain": [
       "(2919, 254)"
      ]
     },
     "execution_count": 26,
     "metadata": {},
     "output_type": "execute_result"
    }
   ],
   "source": [
    "df.shape"
   ]
  }
 ],
 "metadata": {
  "kernelspec": {
   "display_name": "Python 3 (ipykernel)",
   "language": "python",
   "name": "python3"
  },
  "language_info": {
   "codemirror_mode": {
    "name": "ipython",
    "version": 3
   },
   "file_extension": ".py",
   "mimetype": "text/x-python",
   "name": "python",
   "nbconvert_exporter": "python",
   "pygments_lexer": "ipython3",
   "version": "3.11.7"
  }
 },
 "nbformat": 4,
 "nbformat_minor": 5
}
